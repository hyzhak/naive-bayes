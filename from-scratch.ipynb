{
 "cells": [
  {
   "cell_type": "markdown",
   "metadata": {},
   "source": [
    "# Naive Bayes From Scratch (on Gaussian Probability)\n",
    "based on:\n",
    "- http://machinelearningmastery.com/naive-bayes-classifier-scratch-python/\n",
    "- http://machinelearningmastery.com/better-naive-bayes/"
   ]
  },
  {
   "cell_type": "code",
   "execution_count": 1,
   "metadata": {
    "collapsed": true
   },
   "outputs": [],
   "source": [
    "import math\n",
    "import numpy as np\n",
    "from pprint import pprint\n",
    "import operator\n",
    "from sklearn import datasets, metrics, model_selection"
   ]
  },
  {
   "cell_type": "code",
   "execution_count": 2,
   "metadata": {
    "collapsed": true
   },
   "outputs": [],
   "source": [
    "random_state = np.random.RandomState(0)\n",
    "\n",
    "data = datasets.load_wine()\n",
    "X_train, X_test, y_train, y_test = model_selection.train_test_split(\n",
    "    data.data, data.target, test_size=0.3, random_state=random_state)"
   ]
  },
  {
   "cell_type": "code",
   "execution_count": 3,
   "metadata": {},
   "outputs": [],
   "source": [
    "def mean(samples):\n",
    "    return sum(samples) / float(len(samples))\n",
    "\n",
    "def stdev(samples):\n",
    "    avg = mean(samples)\n",
    "    variance = sum([pow(x - avg, 2) for x in samples]) / float(len(samples) - 1)\n",
    "    return math.sqrt(variance)\n",
    "\n",
    "def fit_one_class(instances):\n",
    "    return [(mean(attribute), stdev(attribute)) for attribute in zip(*instances)]\n",
    "\n",
    "def split_by_classes(X, y):\n",
    "    separated = {}\n",
    "    for features, cls in zip(X, y):\n",
    "        if cls not in separated:\n",
    "            separated[cls] = []\n",
    "        separated[cls].append(features)\n",
    "    return separated\n",
    "\n",
    "def fit(X, y):\n",
    "    summaries = {}\n",
    "    separated = split_by_classes(X, y)\n",
    "    for cls, instances in separated.items():\n",
    "        summaries[cls] = fit_one_class(instances)\n",
    "    return summaries\n",
    "\n",
    "# different probability functions\n",
    "def gaussian_probability(x, mean_value, stdev_value):\n",
    "    \"\"\"\n",
    "    Gaussian Probability Density Function\n",
    "    \"\"\"\n",
    "    exponent = math.exp(-(math.pow(x - mean_value, 2) / (2 * math.pow(stdev_value, 2))))\n",
    "    return (1 / (math.sqrt(2 * math.pi) * stdev_value)) * exponent\n",
    "\n",
    "# TODO: multinomial, bernoulli or kernel naive bayes\n",
    "\n",
    "def class_probability(summary, features, prob_fn):\n",
    "    is_array_of_features = True\n",
    "    try:\n",
    "        len(features)\n",
    "    except TypeError:\n",
    "        is_array_of_features = False\n",
    "        \n",
    "    if is_array_of_features:\n",
    "        return [class_probability_single(summary, features_raw, prob_fn) for features_raw in features]\n",
    "    else:\n",
    "        return [class_probability_single(summary, features, prob_fn)]\n",
    "\n",
    "def class_probability_single(summary, features, prob_fn):\n",
    "    probabilities = {}\n",
    "    for cls, cls_summary in summary.items():\n",
    "        res = 1\n",
    "        for feature, (mean_value, stdev_value) in zip(features, cls_summary):\n",
    "            res *= prob_fn(feature, mean_value, stdev_value)\n",
    "        probabilities[cls] = res\n",
    "    return probabilities\n",
    "\n",
    "def predict(summary, X, prob_fn):\n",
    "    prob_of_classes = class_probability(summary, X, prob_fn)\n",
    "    return [max(p.items(), key=operator.itemgetter(1))[0] for p in prob_of_classes]\n",
    "\n",
    "def precision(x_pred, y_true):\n",
    "    return sum(y_pred == y_test) / len(y_test)\n",
    "\n",
    "def macro_recall(x_pred, y_true):\n",
    "    \"\"\"\n",
    "    # recall, average='macro'\n",
    "    # Calculate metrics for each label, and find their unweighted mean. \n",
    "    # This does not take label imbalance into account.\n",
    "    \"\"\"    \n",
    "    y_pred_array = np.array(y_pred)\n",
    "    recall_one_cls = []\n",
    "    for cls in set(y_test):\n",
    "        tp = sum(y_true[y_pred_array == cls] == cls)\n",
    "        fn = sum(y_true[y_pred_array != cls] == cls)\n",
    "        recall_one_cls.append(tp / (tp + fn))   \n",
    "    return sum(recall_one_cls) / len(recall_one_cls)"
   ]
  },
  {
   "cell_type": "code",
   "execution_count": 4,
   "metadata": {},
   "outputs": [
    {
     "name": "stdout",
     "output_type": "stream",
     "text": [
      "accuracy:\n",
      "0.944444444444\n",
      "recall:\n",
      "0.954545454545\n",
      "confusion matrix:\n",
      "[[19  2  0]\n",
      " [ 0 19  0]\n",
      " [ 0  1 13]]\n"
     ]
    }
   ],
   "source": [
    "# train model\n",
    "model = fit(X_train, y_train)\n",
    "y_pred = predict(model, X_test, gaussian_probability)\n",
    "\n",
    "print('accuracy:')\n",
    "print(precision(y_pred, y_test))\n",
    "print('recall:')\n",
    "print(macro_recall(y_pred, y_test))\n",
    "print('confusion matrix:')\n",
    "print(metrics.confusion_matrix(y_pred, y_test))"
   ]
  },
  {
   "cell_type": "code",
   "execution_count": null,
   "metadata": {
    "collapsed": true
   },
   "outputs": [],
   "source": []
  }
 ],
 "metadata": {
  "kernelspec": {
   "display_name": "Python 3",
   "language": "python",
   "name": "python3"
  },
  "language_info": {
   "codemirror_mode": {
    "name": "ipython",
    "version": 3
   },
   "file_extension": ".py",
   "mimetype": "text/x-python",
   "name": "python",
   "nbconvert_exporter": "python",
   "pygments_lexer": "ipython3",
   "version": "3.6.1"
  }
 },
 "nbformat": 4,
 "nbformat_minor": 2
}
